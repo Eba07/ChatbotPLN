{
 "cells": [
  {
   "cell_type": "markdown",
   "metadata": {},
   "source": [
    "CHATBOT ASESOR UNIVERSITARIO <br/>\n",
    "\n",
    "\n",
    "1. Objetivo: Desarrollar un chatbot para atender consultas sobre estudios de doctorado de una Universidad.\n",
    "\n",
    "2. Tecnologías utilizadas:\n",
    "-Libreria chatterbot de Python\n",
    "-Base de datos: MongoDB\n",
    "\n",
    "3. Requerimientos iniciales: <br/>\n",
    "-Se requiere contar con la libreria chatterbot instalada, sino se cuenta con la libreria se puede instalar desde el terminal con el comando:<br/><br/>\n",
    "   <center> pip install chatterbot</center> <br/>\n",
    "-Se debe tener contar con el motor de base de datos Mongo en ejecución. Se puede seguir el instructivo siguiente para su intalación: <center>https://gist.github.com/AlejoJamC/b8635af765ac7495c4931403b97a0d78 </center><br/>\n",
    "-Contar con datos de entrenamiento: Para nuestro caso se encuentra en el archivo PEC_ES.yml. Se ha considerado información general sobre programas de doctorado, se puede enriquecer definiendo la Universidad específica."
   ]
  },
  {
   "cell_type": "code",
   "execution_count": null,
   "metadata": {
    "collapsed": true
   },
   "outputs": [],
   "source": []
  },
  {
   "cell_type": "code",
   "execution_count": 1,
   "metadata": {
    "collapsed": true
   },
   "outputs": [],
   "source": [
    "from chatterbot import ChatBot\n",
    "\n",
    "chatbot = ChatBot(\n",
    "    \"Bot_Doctorado\",\n",
    "\n",
    "    storage_adapter='chatterbot.storage.MongoDatabaseAdapter',\n",
    "    database_uri='mongodb://localhost:27017/',\n",
    "    database='chatterbot_doctorado',\n",
    "    \n",
    "    input_adapter=\"chatterbot.input.TerminalAdapter\",\n",
    "    \n",
    "    output_adapter=\"chatterbot.output.OutputAdapter\",\n",
    "    output_format=\"text\",\n",
    "\n",
    "    logic_adapters=[\n",
    "        {\n",
    "            \"import_path\": \"chatterbot.logic.BestMatch\",\n",
    "            \"statement_comparison_function\": \"chatterbot.comparisons.levenshtein_distance\",\n",
    "            \"response_selection_method\": \"chatterbot.response_selection.get_most_frequent_response\"\n",
    "        },\n",
    "        {\n",
    "            'import_path': 'chatterbot.logic.LowConfidenceAdapter',\n",
    "            'threshold': 0.60,\n",
    "            'default_response': 'Disculpa, no te he entendido bien, sólo conozco sobre estudios de doctorado. ¿Puedes ser más específico?.'\n",
    "        },\n",
    "        {\n",
    "            'import_path': 'chatterbot.logic.SpecificResponseAdapter',\n",
    "            'input_text': 'Quiero hacer una matrícula',\n",
    "            'output_text': 'Puedes realizarla en: https://www.uah.es/es/estudios/estudios-oficiales/doctorados/'\n",
    "        },\n",
    "    ],\n",
    "    \n",
    "    preprocessors=[\n",
    "        'chatterbot.preprocessors.clean_whitespace'\n",
    "    ],\n",
    "    \n",
    "    read_only=False,\n",
    ")\n",
    "\n",
    "DEFAULT_SESSION_ID = chatbot.default_session"
   ]
  },
  {
   "cell_type": "code",
   "execution_count": 2,
   "metadata": {},
   "outputs": [
    {
     "name": "stdout",
     "output_type": "stream",
     "text": [
      "PEC_ES.yml Training: [####################] 100%\n"
     ]
    }
   ],
   "source": [
    "from chatterbot.trainers import ChatterBotCorpusTrainer\n",
    "\n",
    "chatbot.set_trainer(ChatterBotCorpusTrainer)\n",
    "chatbot.train(\"./PEC_ES.yml\")"
   ]
  },
  {
   "cell_type": "code",
   "execution_count": 3,
   "metadata": {},
   "outputs": [
    {
     "name": "stdout",
     "output_type": "stream",
     "text": [
      "Información sobre Doctorados\n",
      "---------\n",
      "Presiona ctrl-c para terminar la conversación.\n",
      "Hola, ¿En qué puedo ayudarte?\n"
     ]
    }
   ],
   "source": [
    "print(\"Información sobre Doctorados\\n---------\")\n",
    "print('Presiona ctrl-c para terminar la conversación.')\n",
    "print ('Hola, ¿En qué puedo ayudarte?')"
   ]
  },
  {
   "cell_type": "code",
   "execution_count": null,
   "metadata": {},
   "outputs": [
    {
     "name": "stdout",
     "output_type": "stream",
     "text": [
      "¿Qué es un doctorado?\n",
      "\n",
      "Los estudios de Doctorado se centran en el desarrollo de competencias para la ejecución autónoma de un trabajo de investigación con calidad medible y contrastable. Estos estudios se organizan en programas, en cuyos respectivos ámbitos se desarrollan trabajos científicos y técnicos alrededor de los cuales el doctorando articula su proyecto de tesis bajo la tutela de expertos investigadores.\n",
      "\n",
      "\n",
      "¿Cuánto cuesta?\n",
      "\n",
      "El coste de un doctorado en España, está en torno a unos 300-600€ anuales. Normalmente, dependiendo de la universidad, puedes fraccionar el pago en tres o cuatro plazos.\n",
      "\n",
      "\n",
      "¿Puedo estudiar y trabajar a la vez?\n",
      "\n",
      "La modalidad de Doctorado a tiempo parcial (esto es, entre 4 y 5 años de estudios) está pensada específicamente para personas que desean matricularse en estudios de Doctorado y que actualmente están trabajando. De este modo, disponen de más años para poder llevar a cabo su investigación y todas las responsabilidades asociadas.\n",
      "\n",
      "\n",
      "¿Cuáles son los requisitos?\n",
      "\n",
      "Para acceder a los programas de Doctorado es necesario tener las titulaciones universitarias de Grado y Máster, reuniendo entre ambas un mínimo de 300 créditos. Cada programa cuenta con sus propias líneas de investigación y requisitos de acceso. A la hora de elegir un programa, es importante estudiar estas líneas, así como el perfil de los expertos involucrados y los resultados obtenidos. Las tesis y publicaciones científicas originadas en cada programa dan cuenta de su calidad y especialidad temática. Rogamos consultes detenidamente información de cada programa de Doctorado antes de solicitar admisión.\n",
      "\n",
      "\n",
      "¿Cuánto dura?\n",
      "\n",
      "El coste de un doctorado en España, está en torno a unos 300-600€ anuales. Normalmente, dependiendo de la universidad, puedes fraccionar el pago en tres o cuatro plazos.\n",
      "\n",
      "\n",
      "¿Cuál es la duración?\n",
      "\n",
      "Se trata de un estudiante debidamente admitido y matriculado en un programa de Doctorado que lleva a cabo un trabajo de investigación y una serie de actividades conducentes al título de Doctor en un área de especialidad determinada, todo ello bajo la supervisión y guía de su(s) director(es) y tutor de tesis.\n",
      "\n",
      "\n",
      "¿Cuánto tiempo dura?\n",
      "\n",
      "El coste de un doctorado en España, está en torno a unos 300-600€ anuales. Normalmente, dependiendo de la universidad, puedes fraccionar el pago en tres o cuatro plazos.\n",
      "\n",
      "\n",
      "¿Hay un horario?\n",
      "\n",
      "Los estudios de Doctorado se centran en el desarrollo de competencias para la ejecución autónoma de un trabajo de investigación con calidad medible y contrastable. Estos estudios se organizan en programas, en cuyos respectivos ámbitos se desarrollan trabajos científicos y técnicos alrededor de los cuales el doctorando articula su proyecto de tesis bajo la tutela de expertos investigadores.\n",
      "\n",
      "\n",
      "¿Qué es una tesis?\n",
      "\n",
      "La memoria de tesis da cuenta del trabajo original de investigación desarrollado a lo largo de tu programa de formación doctoral y supone, por tanto, la culminación del mismo. La tesis te capacita para el trabajo autónomo en el ámbito de la I+D+i. Debe contar con el visto bueno de tu tutor y director, y cumplir con los requisitos de calidad y formato establecidos por la Comisión Académica de tu programa.\n",
      "\n",
      "\n",
      "¿Qué haré el primer año?\n",
      "\n",
      "Depende de la Universidad, podrás tener algunas actividades complementarias, pero no es como un máster, no hay clases presenciales ni hay formación continuada. Tan solo si tienes que aprender a usar algún software o alguna habilidad en concreto, te harán aprender en el primer curso.\n",
      "\n",
      "\n"
     ]
    }
   ],
   "source": [
    "while True:\n",
    "    try:\n",
    "        input_statement = chatbot.input.process_input_statement()\n",
    "        statement, response = chatbot.generate_response(input_statement, DEFAULT_SESSION_ID)\n",
    "        print(\"\\n%s\\n\\n\" % response)\n",
    "    # Presiona ctrl-c para salir   \n",
    "    except (KeyboardInterrupt, EOFError, SystemExit):\n",
    "        break"
   ]
  }
 ],
 "metadata": {
  "kernelspec": {
   "display_name": "Python 3",
   "language": "python",
   "name": "python3"
  },
  "language_info": {
   "codemirror_mode": {
    "name": "ipython",
    "version": 3
   },
   "file_extension": ".py",
   "mimetype": "text/x-python",
   "name": "python",
   "nbconvert_exporter": "python",
   "pygments_lexer": "ipython3",
   "version": "3.6.3"
  }
 },
 "nbformat": 4,
 "nbformat_minor": 2
}
